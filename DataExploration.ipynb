{
 "cells": [
  {
   "cell_type": "markdown",
   "metadata": {},
   "source": [
    "# Final Project\n",
    "\n",
    "### Data Cleanup"
   ]
  },
  {
   "cell_type": "code",
   "execution_count": 1,
   "metadata": {},
   "outputs": [],
   "source": [
    "import pandas as pd\n",
    "import numpy as np\n",
    "import matplotlib.pyplot as plt"
   ]
  },
  {
   "cell_type": "code",
   "execution_count": 2,
   "metadata": {
    "scrolled": true
   },
   "outputs": [
    {
     "name": "stdout",
     "output_type": "stream",
     "text": [
      "Shape of data:  (5100, 6)\n"
     ]
    },
    {
     "data": {
      "text/html": [
       "<div>\n",
       "<style scoped>\n",
       "    .dataframe tbody tr th:only-of-type {\n",
       "        vertical-align: middle;\n",
       "    }\n",
       "\n",
       "    .dataframe tbody tr th {\n",
       "        vertical-align: top;\n",
       "    }\n",
       "\n",
       "    .dataframe thead th {\n",
       "        text-align: right;\n",
       "    }\n",
       "</style>\n",
       "<table border=\"1\" class=\"dataframe\">\n",
       "  <thead>\n",
       "    <tr style=\"text-align: right;\">\n",
       "      <th></th>\n",
       "      <th>Song</th>\n",
       "      <th>Artist</th>\n",
       "      <th>Year</th>\n",
       "      <th>Lyrics</th>\n",
       "    </tr>\n",
       "  </thead>\n",
       "  <tbody>\n",
       "    <tr>\n",
       "      <th>0</th>\n",
       "      <td>wooly bully</td>\n",
       "      <td>sam the sham and the pharaohs</td>\n",
       "      <td>1965</td>\n",
       "      <td>sam the sham miscellaneous wooly bully wooly b...</td>\n",
       "    </tr>\n",
       "    <tr>\n",
       "      <th>1</th>\n",
       "      <td>i cant help myself sugar pie honey bunch</td>\n",
       "      <td>four tops</td>\n",
       "      <td>1965</td>\n",
       "      <td>sugar pie honey bunch you know that i love yo...</td>\n",
       "    </tr>\n",
       "    <tr>\n",
       "      <th>2</th>\n",
       "      <td>i cant get no satisfaction</td>\n",
       "      <td>the rolling stones</td>\n",
       "      <td>1965</td>\n",
       "      <td></td>\n",
       "    </tr>\n",
       "    <tr>\n",
       "      <th>3</th>\n",
       "      <td>you were on my mind</td>\n",
       "      <td>we five</td>\n",
       "      <td>1965</td>\n",
       "      <td>when i woke up this morning you were on my mi...</td>\n",
       "    </tr>\n",
       "    <tr>\n",
       "      <th>4</th>\n",
       "      <td>youve lost that lovin feelin</td>\n",
       "      <td>the righteous brothers</td>\n",
       "      <td>1965</td>\n",
       "      <td>you never close your eyes anymore when i kiss...</td>\n",
       "    </tr>\n",
       "  </tbody>\n",
       "</table>\n",
       "</div>"
      ],
      "text/plain": [
       "                                       Song                         Artist  \\\n",
       "0                               wooly bully  sam the sham and the pharaohs   \n",
       "1  i cant help myself sugar pie honey bunch                      four tops   \n",
       "2                i cant get no satisfaction             the rolling stones   \n",
       "3                       you were on my mind                        we five   \n",
       "4              youve lost that lovin feelin         the righteous brothers   \n",
       "\n",
       "   Year                                             Lyrics  \n",
       "0  1965  sam the sham miscellaneous wooly bully wooly b...  \n",
       "1  1965   sugar pie honey bunch you know that i love yo...  \n",
       "2  1965                                                     \n",
       "3  1965   when i woke up this morning you were on my mi...  \n",
       "4  1965   you never close your eyes anymore when i kiss...  "
      ]
     },
     "metadata": {},
     "output_type": "display_data"
    },
    {
     "name": "stdout",
     "output_type": "stream",
     "text": [
      "Final data shape:  (5100, 4)\n",
      "Song      object\n",
      "Artist    object\n",
      "Year       int64\n",
      "Lyrics    object\n",
      "dtype: object\n"
     ]
    }
   ],
   "source": [
    "## data set downloaded from\n",
    "data = pd.read_csv('data/billboard-1964-2015-songs-lyrics.zip',encoding = \"ISO-8859-1\",skipinitialspace=True)\n",
    "# try reading all data sets\n",
    "#display(data.head())\n",
    "print('Shape of data: ', data.shape)\n",
    "# drop irrelevant columns\n",
    "data = data.drop(columns=['Rank', 'Source'])\n",
    "display(data.head())\n",
    "print(\"Final data shape: \",data.shape)\n",
    "print(data.dtypes)"
   ]
  },
  {
   "cell_type": "code",
   "execution_count": 3,
   "metadata": {},
   "outputs": [
    {
     "data": {
      "text/html": [
       "<div>\n",
       "<style scoped>\n",
       "    .dataframe tbody tr th:only-of-type {\n",
       "        vertical-align: middle;\n",
       "    }\n",
       "\n",
       "    .dataframe tbody tr th {\n",
       "        vertical-align: top;\n",
       "    }\n",
       "\n",
       "    .dataframe thead th {\n",
       "        text-align: right;\n",
       "    }\n",
       "</style>\n",
       "<table border=\"1\" class=\"dataframe\">\n",
       "  <thead>\n",
       "    <tr style=\"text-align: right;\">\n",
       "      <th></th>\n",
       "      <th>Song</th>\n",
       "      <th>Artist</th>\n",
       "      <th>Year</th>\n",
       "      <th>Lyrics</th>\n",
       "    </tr>\n",
       "  </thead>\n",
       "  <tbody>\n",
       "    <tr>\n",
       "      <th>0</th>\n",
       "      <td>wooly bully</td>\n",
       "      <td>sam the sham and the pharaohs</td>\n",
       "      <td>1965</td>\n",
       "      <td>sam the sham miscellaneous wooly bully wooly b...</td>\n",
       "    </tr>\n",
       "    <tr>\n",
       "      <th>1</th>\n",
       "      <td>i cant help myself sugar pie honey bunch</td>\n",
       "      <td>four tops</td>\n",
       "      <td>1965</td>\n",
       "      <td>sugar pie honey bunch you know that i love you...</td>\n",
       "    </tr>\n",
       "    <tr>\n",
       "      <th>2</th>\n",
       "      <td>i cant get no satisfaction</td>\n",
       "      <td>the rolling stones</td>\n",
       "      <td>1965</td>\n",
       "      <td>NaN</td>\n",
       "    </tr>\n",
       "    <tr>\n",
       "      <th>3</th>\n",
       "      <td>you were on my mind</td>\n",
       "      <td>we five</td>\n",
       "      <td>1965</td>\n",
       "      <td>when i woke up this morning you were on my min...</td>\n",
       "    </tr>\n",
       "    <tr>\n",
       "      <th>4</th>\n",
       "      <td>youve lost that lovin feelin</td>\n",
       "      <td>the righteous brothers</td>\n",
       "      <td>1965</td>\n",
       "      <td>you never close your eyes anymore when i kiss ...</td>\n",
       "    </tr>\n",
       "  </tbody>\n",
       "</table>\n",
       "</div>"
      ],
      "text/plain": [
       "                                       Song                         Artist  \\\n",
       "0                               wooly bully  sam the sham and the pharaohs   \n",
       "1  i cant help myself sugar pie honey bunch                      four tops   \n",
       "2                i cant get no satisfaction             the rolling stones   \n",
       "3                       you were on my mind                        we five   \n",
       "4              youve lost that lovin feelin         the righteous brothers   \n",
       "\n",
       "   Year                                             Lyrics  \n",
       "0  1965  sam the sham miscellaneous wooly bully wooly b...  \n",
       "1  1965  sugar pie honey bunch you know that i love you...  \n",
       "2  1965                                                NaN  \n",
       "3  1965  when i woke up this morning you were on my min...  \n",
       "4  1965  you never close your eyes anymore when i kiss ...  "
      ]
     },
     "execution_count": 3,
     "metadata": {},
     "output_type": "execute_result"
    }
   ],
   "source": [
    "# strip leading and trailing white space or new line characters\n",
    "data = data.replace({r'^\\s+': '',r'\\s+$':'',r'\\n':''}, regex=True)\n",
    "# replace empty string with NaN\n",
    "data = data.replace({'': np.nan})\n",
    "data.head()\n"
   ]
  },
  {
   "cell_type": "code",
   "execution_count": 4,
   "metadata": {},
   "outputs": [
    {
     "name": "stdout",
     "output_type": "stream",
     "text": [
      "Shape after dropping NA:  (4866, 4)\n"
     ]
    },
    {
     "data": {
      "text/html": [
       "<div>\n",
       "<style scoped>\n",
       "    .dataframe tbody tr th:only-of-type {\n",
       "        vertical-align: middle;\n",
       "    }\n",
       "\n",
       "    .dataframe tbody tr th {\n",
       "        vertical-align: top;\n",
       "    }\n",
       "\n",
       "    .dataframe thead th {\n",
       "        text-align: right;\n",
       "    }\n",
       "</style>\n",
       "<table border=\"1\" class=\"dataframe\">\n",
       "  <thead>\n",
       "    <tr style=\"text-align: right;\">\n",
       "      <th></th>\n",
       "      <th>Song</th>\n",
       "      <th>Artist</th>\n",
       "      <th>Year</th>\n",
       "      <th>Lyrics</th>\n",
       "    </tr>\n",
       "  </thead>\n",
       "  <tbody>\n",
       "    <tr>\n",
       "      <th>0</th>\n",
       "      <td>wooly bully</td>\n",
       "      <td>sam the sham and the pharaohs</td>\n",
       "      <td>1965</td>\n",
       "      <td>sam the sham miscellaneous wooly bully wooly b...</td>\n",
       "    </tr>\n",
       "    <tr>\n",
       "      <th>1</th>\n",
       "      <td>i cant help myself sugar pie honey bunch</td>\n",
       "      <td>four tops</td>\n",
       "      <td>1965</td>\n",
       "      <td>sugar pie honey bunch you know that i love you...</td>\n",
       "    </tr>\n",
       "    <tr>\n",
       "      <th>3</th>\n",
       "      <td>you were on my mind</td>\n",
       "      <td>we five</td>\n",
       "      <td>1965</td>\n",
       "      <td>when i woke up this morning you were on my min...</td>\n",
       "    </tr>\n",
       "    <tr>\n",
       "      <th>4</th>\n",
       "      <td>youve lost that lovin feelin</td>\n",
       "      <td>the righteous brothers</td>\n",
       "      <td>1965</td>\n",
       "      <td>you never close your eyes anymore when i kiss ...</td>\n",
       "    </tr>\n",
       "    <tr>\n",
       "      <th>5</th>\n",
       "      <td>downtown</td>\n",
       "      <td>petula clark</td>\n",
       "      <td>1965</td>\n",
       "      <td>when youre alone and life is making you lonely...</td>\n",
       "    </tr>\n",
       "  </tbody>\n",
       "</table>\n",
       "</div>"
      ],
      "text/plain": [
       "                                       Song                         Artist  \\\n",
       "0                               wooly bully  sam the sham and the pharaohs   \n",
       "1  i cant help myself sugar pie honey bunch                      four tops   \n",
       "3                       you were on my mind                        we five   \n",
       "4              youve lost that lovin feelin         the righteous brothers   \n",
       "5                                  downtown                   petula clark   \n",
       "\n",
       "   Year                                             Lyrics  \n",
       "0  1965  sam the sham miscellaneous wooly bully wooly b...  \n",
       "1  1965  sugar pie honey bunch you know that i love you...  \n",
       "3  1965  when i woke up this morning you were on my min...  \n",
       "4  1965  you never close your eyes anymore when i kiss ...  \n",
       "5  1965  when youre alone and life is making you lonely...  "
      ]
     },
     "metadata": {},
     "output_type": "display_data"
    }
   ],
   "source": [
    "# drop NA values\n",
    "data.Lyrics[2]\n",
    "data = data.dropna()\n",
    "print('Shape after dropping NA: ',data.shape )\n",
    "display(data.head())"
   ]
  },
  {
   "cell_type": "code",
   "execution_count": 5,
   "metadata": {},
   "outputs": [
    {
     "data": {
      "text/plain": [
       "array([1965, 1966, 1967, 1968, 1969, 1970, 1971, 1972, 1973, 1974, 1975,\n",
       "       1976, 1977, 1978, 1979, 1980, 1981, 1982, 1983, 1984, 1985, 1986,\n",
       "       1987, 1988, 1989, 1990, 1991, 1992, 1993, 1994, 1995, 1996, 1997,\n",
       "       1998, 1999, 2000, 2001, 2002, 2003, 2004, 2005, 2006, 2007, 2008,\n",
       "       2009, 2010, 2011, 2012, 2013, 2014, 2015], dtype=int64)"
      ]
     },
     "execution_count": 5,
     "metadata": {},
     "output_type": "execute_result"
    }
   ],
   "source": [
    "#sanity check year seems fine no erronous data\n",
    "year = data['Year'].unique()\n",
    "year"
   ]
  },
  {
   "cell_type": "code",
   "execution_count": 6,
   "metadata": {},
   "outputs": [
    {
     "data": {
      "text/html": [
       "<div>\n",
       "<style scoped>\n",
       "    .dataframe tbody tr th:only-of-type {\n",
       "        vertical-align: middle;\n",
       "    }\n",
       "\n",
       "    .dataframe tbody tr th {\n",
       "        vertical-align: top;\n",
       "    }\n",
       "\n",
       "    .dataframe thead th {\n",
       "        text-align: right;\n",
       "    }\n",
       "</style>\n",
       "<table border=\"1\" class=\"dataframe\">\n",
       "  <thead>\n",
       "    <tr style=\"text-align: right;\">\n",
       "      <th></th>\n",
       "      <th>Song</th>\n",
       "      <th>Artist</th>\n",
       "      <th>Year</th>\n",
       "      <th>Lyrics</th>\n",
       "    </tr>\n",
       "  </thead>\n",
       "  <tbody>\n",
       "    <tr>\n",
       "      <th>0</th>\n",
       "      <td>wooly bully</td>\n",
       "      <td>sam the sham and the pharaohs</td>\n",
       "      <td>1965</td>\n",
       "      <td>sam the sham miscellaneous wooly bully wooly b...</td>\n",
       "    </tr>\n",
       "    <tr>\n",
       "      <th>1</th>\n",
       "      <td>i cant help myself sugar pie honey bunch</td>\n",
       "      <td>four tops</td>\n",
       "      <td>1965</td>\n",
       "      <td>sugar pie honey bunch you know that i love you...</td>\n",
       "    </tr>\n",
       "    <tr>\n",
       "      <th>3</th>\n",
       "      <td>you were on my mind</td>\n",
       "      <td>we five</td>\n",
       "      <td>1965</td>\n",
       "      <td>when i woke up this morning you were on my min...</td>\n",
       "    </tr>\n",
       "    <tr>\n",
       "      <th>4</th>\n",
       "      <td>youve lost that lovin feelin</td>\n",
       "      <td>the righteous brothers</td>\n",
       "      <td>1965</td>\n",
       "      <td>you never close your eyes anymore when i kiss ...</td>\n",
       "    </tr>\n",
       "    <tr>\n",
       "      <th>5</th>\n",
       "      <td>downtown</td>\n",
       "      <td>petula clark</td>\n",
       "      <td>1965</td>\n",
       "      <td>when youre alone and life is making you lonely...</td>\n",
       "    </tr>\n",
       "  </tbody>\n",
       "</table>\n",
       "</div>"
      ],
      "text/plain": [
       "                                       Song                         Artist  \\\n",
       "0                               wooly bully  sam the sham and the pharaohs   \n",
       "1  i cant help myself sugar pie honey bunch                      four tops   \n",
       "3                       you were on my mind                        we five   \n",
       "4              youve lost that lovin feelin         the righteous brothers   \n",
       "5                                  downtown                   petula clark   \n",
       "\n",
       "   Year                                             Lyrics  \n",
       "0  1965  sam the sham miscellaneous wooly bully wooly b...  \n",
       "1  1965  sugar pie honey bunch you know that i love you...  \n",
       "3  1965  when i woke up this morning you were on my min...  \n",
       "4  1965  you never close your eyes anymore when i kiss ...  \n",
       "5  1965  when youre alone and life is making you lonely...  "
      ]
     },
     "execution_count": 6,
     "metadata": {},
     "output_type": "execute_result"
    }
   ],
   "source": [
    "# lower string\n",
    "data.Lyrics = data.Lyrics.str.lower()\n",
    "data.head()"
   ]
  },
  {
   "cell_type": "markdown",
   "metadata": {},
   "source": [
    "## Parameters for word count"
   ]
  },
  {
   "cell_type": "code",
   "execution_count": 7,
   "metadata": {},
   "outputs": [
    {
     "name": "stdout",
     "output_type": "stream",
     "text": [
      "Initially there are:  179  stopwords\n",
      "there are  195 stopwords\n"
     ]
    },
    {
     "name": "stderr",
     "output_type": "stream",
     "text": [
      "[nltk_data] Downloading package stopwords to C:\\Users\\Jing\n",
      "[nltk_data]     Yun\\AppData\\Roaming\\nltk_data...\n",
      "[nltk_data]   Package stopwords is already up-to-date!\n"
     ]
    }
   ],
   "source": [
    "# variables needed for word cleanup\n",
    "import nltk\n",
    "nltk.download('stopwords')\n",
    "from nltk.corpus import stopwords\n",
    "stopwords = stopwords.words('english')\n",
    "print('Initially there are: ',len(stopwords),' stopwords')\n",
    "# word choice based on initial analysis of old dataset. \n",
    "# futhrer choices informed by http://cs.brown.edu/courses/cs100/students/project11/\n",
    "stopwords+= ['verse','chorus','im','dont','oh','got','get','yeah','you','youre','let','ill','gonna','aint','ive','youll']\n",
    "print('there are ',len(stopwords),'stopwords')"
   ]
  },
  {
   "cell_type": "markdown",
   "metadata": {},
   "source": [
    "## Meauring word repitition in individual songs\n",
    "we would like to evaluate how repititive a song is like Gucci Gang or Daft Punk's all around the world. We want to evaluate how \"diverse\" a song is. Does the artist only use a few words to compose a long song like in Gucci Gang or Daft Punk's All AROund the World? <br/> <br/>\n",
    "\n",
    "We thus come up with a measure of this called variance. we will measure the number of unique words the author uses in his song. To avoid stop words artificially inflating their score we will remove stop words. Procedure is as follow:\n",
    "1. Remove stop words\n",
    "2. calculate number of unique words\n",
    "3. calculate song length\n",
    "$$\\text{variance}=\\frac{\\text{Number of unique words}}{\\text{Number of words in song lyrics}}$$\n",
    "The lower the variance score, the more repitive the song\n",
    "<br/>\n",
    "\n",
    "we would also like to avoid the artist using derivative of words (eg. general --> generalized) to boost their variance score therefore we also have a score called variance root \n",
    "1. Remove stop words\n",
    "2. convert all words to thier root words\n",
    "2. calculate number of unique root words\n",
    "3. calculate song length\n",
    "$$\\text{variance-root}=\\frac{\\text{Number of unique root words}}{\\text{Number of words in song lyrics}}$$\n",
    "Conversion to root word is done using the [stemming function](https://pypi.org/project/stemming/)"
   ]
  },
  {
   "cell_type": "code",
   "execution_count": 8,
   "metadata": {},
   "outputs": [
    {
     "data": {
      "text/html": [
       "<div>\n",
       "<style scoped>\n",
       "    .dataframe tbody tr th:only-of-type {\n",
       "        vertical-align: middle;\n",
       "    }\n",
       "\n",
       "    .dataframe tbody tr th {\n",
       "        vertical-align: top;\n",
       "    }\n",
       "\n",
       "    .dataframe thead th {\n",
       "        text-align: right;\n",
       "    }\n",
       "</style>\n",
       "<table border=\"1\" class=\"dataframe\">\n",
       "  <thead>\n",
       "    <tr style=\"text-align: right;\">\n",
       "      <th></th>\n",
       "      <th>Song</th>\n",
       "      <th>Artist</th>\n",
       "      <th>Year</th>\n",
       "      <th>Lyrics</th>\n",
       "      <th>Filtered Lyrics</th>\n",
       "      <th>Variance</th>\n",
       "      <th>Variance Root</th>\n",
       "    </tr>\n",
       "  </thead>\n",
       "  <tbody>\n",
       "    <tr>\n",
       "      <th>0</th>\n",
       "      <td>wooly bully</td>\n",
       "      <td>sam the sham and the pharaohs</td>\n",
       "      <td>1965</td>\n",
       "      <td>sam the sham miscellaneous wooly bully wooly b...</td>\n",
       "      <td>[sam, sham, miscellaneous, wooly, bully, wooly...</td>\n",
       "      <td>0.500000</td>\n",
       "      <td>[sam, sham, miscellan, wooli, bulli, wooli, bu...</td>\n",
       "    </tr>\n",
       "    <tr>\n",
       "      <th>1</th>\n",
       "      <td>i cant help myself sugar pie honey bunch</td>\n",
       "      <td>four tops</td>\n",
       "      <td>1965</td>\n",
       "      <td>sugar pie honey bunch you know that i love you...</td>\n",
       "      <td>[sugar, pie, honey, bunch, know, love, cant, h...</td>\n",
       "      <td>0.610000</td>\n",
       "      <td>[sugar, pie, honey, bunch, know, love, cant, h...</td>\n",
       "    </tr>\n",
       "    <tr>\n",
       "      <th>3</th>\n",
       "      <td>you were on my mind</td>\n",
       "      <td>we five</td>\n",
       "      <td>1965</td>\n",
       "      <td>when i woke up this morning you were on my min...</td>\n",
       "      <td>[woke, morning, mind, mind, troubles, whoaoh, ...</td>\n",
       "      <td>0.462963</td>\n",
       "      <td>[woke, morn, mind, mind, troubl, whoaoh, worri...</td>\n",
       "    </tr>\n",
       "    <tr>\n",
       "      <th>4</th>\n",
       "      <td>youve lost that lovin feelin</td>\n",
       "      <td>the righteous brothers</td>\n",
       "      <td>1965</td>\n",
       "      <td>you never close your eyes anymore when i kiss ...</td>\n",
       "      <td>[never, close, eyes, anymore, kiss, lips, ther...</td>\n",
       "      <td>0.423077</td>\n",
       "      <td>[never, close, eye, anymor, kiss, lip, there, ...</td>\n",
       "    </tr>\n",
       "    <tr>\n",
       "      <th>5</th>\n",
       "      <td>downtown</td>\n",
       "      <td>petula clark</td>\n",
       "      <td>1965</td>\n",
       "      <td>when youre alone and life is making you lonely...</td>\n",
       "      <td>[alone, life, making, lonely, always, go, down...</td>\n",
       "      <td>0.647059</td>\n",
       "      <td>[alon, life, make, lone, alway, go, downtown, ...</td>\n",
       "    </tr>\n",
       "  </tbody>\n",
       "</table>\n",
       "</div>"
      ],
      "text/plain": [
       "                                       Song                         Artist  \\\n",
       "0                               wooly bully  sam the sham and the pharaohs   \n",
       "1  i cant help myself sugar pie honey bunch                      four tops   \n",
       "3                       you were on my mind                        we five   \n",
       "4              youve lost that lovin feelin         the righteous brothers   \n",
       "5                                  downtown                   petula clark   \n",
       "\n",
       "   Year                                             Lyrics  \\\n",
       "0  1965  sam the sham miscellaneous wooly bully wooly b...   \n",
       "1  1965  sugar pie honey bunch you know that i love you...   \n",
       "3  1965  when i woke up this morning you were on my min...   \n",
       "4  1965  you never close your eyes anymore when i kiss ...   \n",
       "5  1965  when youre alone and life is making you lonely...   \n",
       "\n",
       "                                     Filtered Lyrics  Variance  \\\n",
       "0  [sam, sham, miscellaneous, wooly, bully, wooly...  0.500000   \n",
       "1  [sugar, pie, honey, bunch, know, love, cant, h...  0.610000   \n",
       "3  [woke, morning, mind, mind, troubles, whoaoh, ...  0.462963   \n",
       "4  [never, close, eyes, anymore, kiss, lips, ther...  0.423077   \n",
       "5  [alone, life, making, lonely, always, go, down...  0.647059   \n",
       "\n",
       "                                       Variance Root  \n",
       "0  [sam, sham, miscellan, wooli, bulli, wooli, bu...  \n",
       "1  [sugar, pie, honey, bunch, know, love, cant, h...  \n",
       "3  [woke, morn, mind, mind, troubl, whoaoh, worri...  \n",
       "4  [never, close, eye, anymor, kiss, lip, there, ...  \n",
       "5  [alon, life, make, lone, alway, go, downtown, ...  "
      ]
     },
     "metadata": {},
     "output_type": "display_data"
    }
   ],
   "source": [
    "from stemming.porter2 import stem # this stemming library is used becuase it can work in list comprehension\n",
    "# remove stop words\n",
    "data['Filtered Lyrics']=data['Lyrics'].apply(lambda x:[word for word in x.split() if word not in stopwords])\n",
    "# calculate variance \n",
    "data['Variance'] = data['Filtered Lyrics'].apply(lambda x: np.unique(np.array(x)).shape[0]/len(x))\n",
    "# change all words to root word\n",
    "data['Variance Root'] = data['Filtered Lyrics'].apply(lambda x:[stem(word) for word in x])\n",
    "display(data.head())"
   ]
  },
  {
   "cell_type": "code",
   "execution_count": 9,
   "metadata": {},
   "outputs": [],
   "source": [
    "# calculate variance of root words\n",
    "data['Variance Root'] = data['Variance Root'].apply(lambda x: np.unique(np.array(x)).shape[0]/len(x))"
   ]
  },
  {
   "cell_type": "code",
   "execution_count": 10,
   "metadata": {},
   "outputs": [
    {
     "data": {
      "text/html": [
       "<div>\n",
       "<style scoped>\n",
       "    .dataframe tbody tr th:only-of-type {\n",
       "        vertical-align: middle;\n",
       "    }\n",
       "\n",
       "    .dataframe tbody tr th {\n",
       "        vertical-align: top;\n",
       "    }\n",
       "\n",
       "    .dataframe thead th {\n",
       "        text-align: right;\n",
       "    }\n",
       "</style>\n",
       "<table border=\"1\" class=\"dataframe\">\n",
       "  <thead>\n",
       "    <tr style=\"text-align: right;\">\n",
       "      <th></th>\n",
       "      <th>Song</th>\n",
       "      <th>Artist</th>\n",
       "      <th>Year</th>\n",
       "      <th>Lyrics</th>\n",
       "      <th>Filtered Lyrics</th>\n",
       "      <th>Variance</th>\n",
       "      <th>Variance Root</th>\n",
       "    </tr>\n",
       "  </thead>\n",
       "  <tbody>\n",
       "    <tr>\n",
       "      <th>0</th>\n",
       "      <td>wooly bully</td>\n",
       "      <td>sam the sham and the pharaohs</td>\n",
       "      <td>1965</td>\n",
       "      <td>sam the sham miscellaneous wooly bully wooly b...</td>\n",
       "      <td>[sam, sham, miscellaneous, wooly, bully, wooly...</td>\n",
       "      <td>0.500000</td>\n",
       "      <td>0.500000</td>\n",
       "    </tr>\n",
       "    <tr>\n",
       "      <th>1</th>\n",
       "      <td>i cant help myself sugar pie honey bunch</td>\n",
       "      <td>four tops</td>\n",
       "      <td>1965</td>\n",
       "      <td>sugar pie honey bunch you know that i love you...</td>\n",
       "      <td>[sugar, pie, honey, bunch, know, love, cant, h...</td>\n",
       "      <td>0.610000</td>\n",
       "      <td>0.600000</td>\n",
       "    </tr>\n",
       "    <tr>\n",
       "      <th>3</th>\n",
       "      <td>you were on my mind</td>\n",
       "      <td>we five</td>\n",
       "      <td>1965</td>\n",
       "      <td>when i woke up this morning you were on my min...</td>\n",
       "      <td>[woke, morning, mind, mind, troubles, whoaoh, ...</td>\n",
       "      <td>0.462963</td>\n",
       "      <td>0.462963</td>\n",
       "    </tr>\n",
       "    <tr>\n",
       "      <th>4</th>\n",
       "      <td>youve lost that lovin feelin</td>\n",
       "      <td>the righteous brothers</td>\n",
       "      <td>1965</td>\n",
       "      <td>you never close your eyes anymore when i kiss ...</td>\n",
       "      <td>[never, close, eyes, anymore, kiss, lips, ther...</td>\n",
       "      <td>0.423077</td>\n",
       "      <td>0.423077</td>\n",
       "    </tr>\n",
       "    <tr>\n",
       "      <th>5</th>\n",
       "      <td>downtown</td>\n",
       "      <td>petula clark</td>\n",
       "      <td>1965</td>\n",
       "      <td>when youre alone and life is making you lonely...</td>\n",
       "      <td>[alone, life, making, lonely, always, go, down...</td>\n",
       "      <td>0.647059</td>\n",
       "      <td>0.630252</td>\n",
       "    </tr>\n",
       "  </tbody>\n",
       "</table>\n",
       "</div>"
      ],
      "text/plain": [
       "                                       Song                         Artist  \\\n",
       "0                               wooly bully  sam the sham and the pharaohs   \n",
       "1  i cant help myself sugar pie honey bunch                      four tops   \n",
       "3                       you were on my mind                        we five   \n",
       "4              youve lost that lovin feelin         the righteous brothers   \n",
       "5                                  downtown                   petula clark   \n",
       "\n",
       "   Year                                             Lyrics  \\\n",
       "0  1965  sam the sham miscellaneous wooly bully wooly b...   \n",
       "1  1965  sugar pie honey bunch you know that i love you...   \n",
       "3  1965  when i woke up this morning you were on my min...   \n",
       "4  1965  you never close your eyes anymore when i kiss ...   \n",
       "5  1965  when youre alone and life is making you lonely...   \n",
       "\n",
       "                                     Filtered Lyrics  Variance  Variance Root  \n",
       "0  [sam, sham, miscellaneous, wooly, bully, wooly...  0.500000       0.500000  \n",
       "1  [sugar, pie, honey, bunch, know, love, cant, h...  0.610000       0.600000  \n",
       "3  [woke, morning, mind, mind, troubles, whoaoh, ...  0.462963       0.462963  \n",
       "4  [never, close, eyes, anymore, kiss, lips, ther...  0.423077       0.423077  \n",
       "5  [alone, life, making, lonely, always, go, down...  0.647059       0.630252  "
      ]
     },
     "metadata": {},
     "output_type": "display_data"
    }
   ],
   "source": [
    "display(data.head())"
   ]
  },
  {
   "cell_type": "code",
   "execution_count": 11,
   "metadata": {},
   "outputs": [],
   "source": [
    "# function to analysze word count in pandas dataframe lyrics colume\n",
    "\n",
    "###########\n",
    "# Get word count from pandas dataframe\n",
    "# \n",
    "#INPUT: pands dataframe where 'lyrics' column contains song lyrics (alsready pre-processed)\n",
    "# n--> number of most common words to print out\n",
    "# PRE-REQ: nltk library stopwrods (with words verse and chorus)\n",
    "#          matplotlib to plot\n",
    "#\n",
    "#OUTPUT: plots bar graph of top 10 words\n",
    "#################\n",
    "def word_count(dataframe,n,title):\n",
    "    lyric=[]\n",
    "    for words in dataframe['Filtered Lyrics']:\n",
    "        lyric.extend(words)\n",
    "    # https://medium.com/@manivannan_data/word-count-using-nlp-python-da7725166d2a\n",
    "    fdist1 = nltk.FreqDist(lyric)\n",
    "    #print(n,' most common words: ')\n",
    "    #print (result)\n",
    "    count = fdist1.most_common(n)\n",
    "    words = [x[0] for x in count]\n",
    "    words_count = [x[1] for x in count]\n",
    "    plt.figure(figsize=(7,7))\n",
    "    plt.barh(np.arange(len(words)),words_count, align='center',alpha=0.5)\n",
    "    plt.yticks(np.arange(len(words)),words)\n",
    "    plt.gca().invert_yaxis()\n",
    "    plt.xlabel('Count')\n",
    "    plt.title(str('Top '+str(n)+' words for '+title+' songs'))\n",
    "    plt.show()\n",
    "    return count"
   ]
  },
  {
   "cell_type": "markdown",
   "metadata": {},
   "source": [
    "## Analyze top N popular words in song by decades\n"
   ]
  },
  {
   "cell_type": "code",
   "execution_count": 12,
   "metadata": {
    "scrolled": false
   },
   "outputs": [
    {
     "data": {
      "image/png": "[encoded data removed]",
      "text/plain": [
       "<Figure size 504x504 with 1 Axes>"
      ]
     },
     "metadata": {
      "needs_background": "light"
     },
     "output_type": "display_data"
    },
    {
     "data": {
      "image/png": "[encoded data removed]",
      "text/plain": [
       "<Figure size 504x504 with 1 Axes>"
      ]
     },
     "metadata": {
      "needs_background": "light"
     },
     "output_type": "display_data"
    },
    {
     "data": {
      "image/png": "[encoded data removed]",
      "text/plain": [
       "<Figure size 504x504 with 1 Axes>"
      ]
     },
     "metadata": {
      "needs_background": "light"
     },
     "output_type": "display_data"
    },
    {
     "data": {
      "image/png": "[encoded data removed]",
      "text/plain": [
       "<Figure size 504x504 with 1 Axes>"
      ]
     },
     "metadata": {
      "needs_background": "light"
     },
     "output_type": "display_data"
    },
    {
     "data": {
      "image/png": "[encoded data removed]",
      "text/plain": [
       "<Figure size 504x504 with 1 Axes>"
      ]
     },
     "metadata": {
      "needs_background": "light"
     },
     "output_type": "display_data"
    },
    {
     "data": {
      "image/png": "[encoded data removed]",
      "text/plain": [
       "<Figure size 504x504 with 1 Axes>"
      ]
     },
     "metadata": {
      "needs_background": "light"
     },
     "output_type": "display_data"
    }
   ],
   "source": [
    "# plot 60s to 2010s --> \n",
    "######### CHANGE TOP N SONGS HERE ###########\n",
    "n=5\n",
    "word_count_by_decade={}\n",
    "for i in range(6):\n",
    "    song = data.loc[data['Year'].between(1960+i*10,1969+i*10,inclusive=True)]\n",
    "    decade = 1960 + i*10\n",
    "    count = word_count(song,5,str(decade)+'s')\n",
    "    word_count_by_decade[decade] = count"
   ]
  },
  {
   "cell_type": "code",
   "execution_count": 13,
   "metadata": {},
   "outputs": [
    {
     "name": "stdout",
     "output_type": "stream",
     "text": [
      "{1960: [('love', 1176), ('baby', 783), ('know', 507), ('come', 408), ('see', 334)], 1970: [('love', 2946), ('baby', 1266), ('know', 1173), ('like', 1019), ('come', 815)], 1980: [('love', 3262), ('know', 1942), ('baby', 1404), ('like', 1232), ('time', 1179)], 1990: [('love', 3479), ('know', 2474), ('baby', 2203), ('like', 2102), ('want', 1644)], 2000: [('like', 3880), ('know', 3502), ('love', 2656), ('baby', 2095), ('go', 1893)], 2010: [('like', 2383), ('love', 1764), ('know', 1568), ('baby', 1347), ('go', 1039)]}\n"
     ]
    }
   ],
   "source": [
    "print(word_count_by_decade)\n"
   ]
  },
  {
   "cell_type": "markdown",
   "metadata": {},
   "source": [
    "### Visualizing top N words by decade\n",
    "Let's use pandas series [line plot function](https://pandas.pydata.org/pandas-docs/stable/reference/api/pandas.DataFrame.plot.line.html) to better visualize the data"
   ]
  },
  {
   "cell_type": "code",
   "execution_count": 14,
   "metadata": {},
   "outputs": [
    {
     "data": {
      "text/html": [
       "<div>\n",
       "<style scoped>\n",
       "    .dataframe tbody tr th:only-of-type {\n",
       "        vertical-align: middle;\n",
       "    }\n",
       "\n",
       "    .dataframe tbody tr th {\n",
       "        vertical-align: top;\n",
       "    }\n",
       "\n",
       "    .dataframe thead th {\n",
       "        text-align: right;\n",
       "    }\n",
       "</style>\n",
       "<table border=\"1\" class=\"dataframe\">\n",
       "  <thead>\n",
       "    <tr style=\"text-align: right;\">\n",
       "      <th></th>\n",
       "      <th>love</th>\n",
       "      <th>baby</th>\n",
       "      <th>know</th>\n",
       "      <th>come</th>\n",
       "      <th>see</th>\n",
       "      <th>like</th>\n",
       "      <th>time</th>\n",
       "      <th>want</th>\n",
       "      <th>go</th>\n",
       "    </tr>\n",
       "    <tr>\n",
       "      <th>decade</th>\n",
       "      <th></th>\n",
       "      <th></th>\n",
       "      <th></th>\n",
       "      <th></th>\n",
       "      <th></th>\n",
       "      <th></th>\n",
       "      <th></th>\n",
       "      <th></th>\n",
       "      <th></th>\n",
       "    </tr>\n",
       "  </thead>\n",
       "  <tbody>\n",
       "    <tr>\n",
       "      <th>1960</th>\n",
       "      <td>1176</td>\n",
       "      <td>783</td>\n",
       "      <td>507</td>\n",
       "      <td>408.0</td>\n",
       "      <td>334.0</td>\n",
       "      <td>NaN</td>\n",
       "      <td>NaN</td>\n",
       "      <td>NaN</td>\n",
       "      <td>NaN</td>\n",
       "    </tr>\n",
       "    <tr>\n",
       "      <th>1970</th>\n",
       "      <td>2946</td>\n",
       "      <td>1266</td>\n",
       "      <td>1173</td>\n",
       "      <td>815.0</td>\n",
       "      <td>NaN</td>\n",
       "      <td>1019.0</td>\n",
       "      <td>NaN</td>\n",
       "      <td>NaN</td>\n",
       "      <td>NaN</td>\n",
       "    </tr>\n",
       "    <tr>\n",
       "      <th>1980</th>\n",
       "      <td>3262</td>\n",
       "      <td>1404</td>\n",
       "      <td>1942</td>\n",
       "      <td>NaN</td>\n",
       "      <td>NaN</td>\n",
       "      <td>1232.0</td>\n",
       "      <td>1179.0</td>\n",
       "      <td>NaN</td>\n",
       "      <td>NaN</td>\n",
       "    </tr>\n",
       "    <tr>\n",
       "      <th>1990</th>\n",
       "      <td>3479</td>\n",
       "      <td>2203</td>\n",
       "      <td>2474</td>\n",
       "      <td>NaN</td>\n",
       "      <td>NaN</td>\n",
       "      <td>2102.0</td>\n",
       "      <td>NaN</td>\n",
       "      <td>1644.0</td>\n",
       "      <td>NaN</td>\n",
       "    </tr>\n",
       "    <tr>\n",
       "      <th>2000</th>\n",
       "      <td>2656</td>\n",
       "      <td>2095</td>\n",
       "      <td>3502</td>\n",
       "      <td>NaN</td>\n",
       "      <td>NaN</td>\n",
       "      <td>3880.0</td>\n",
       "      <td>NaN</td>\n",
       "      <td>NaN</td>\n",
       "      <td>1893.0</td>\n",
       "    </tr>\n",
       "  </tbody>\n",
       "</table>\n",
       "</div>"
      ],
      "text/plain": [
       "        love  baby  know   come    see    like    time    want      go\n",
       "decade                                                                \n",
       "1960    1176   783   507  408.0  334.0     NaN     NaN     NaN     NaN\n",
       "1970    2946  1266  1173  815.0    NaN  1019.0     NaN     NaN     NaN\n",
       "1980    3262  1404  1942    NaN    NaN  1232.0  1179.0     NaN     NaN\n",
       "1990    3479  2203  2474    NaN    NaN  2102.0     NaN  1644.0     NaN\n",
       "2000    2656  2095  3502    NaN    NaN  3880.0     NaN     NaN  1893.0"
      ]
     },
     "metadata": {},
     "output_type": "display_data"
    },
    {
     "data": {
      "text/plain": [
       "<Figure size 2880x2880 with 0 Axes>"
      ]
     },
     "metadata": {},
     "output_type": "display_data"
    },
    {
     "data": {
      "image/png": "[encoded data removed]",
      "text/plain": [
       "<Figure size 432x288 with 1 Axes>"
      ]
     },
     "metadata": {
      "needs_background": "light"
     },
     "output_type": "display_data"
    }
   ],
   "source": [
    "'''\n",
    ">>> df = pd.DataFrame({\n",
    "...    'pig': [20, 18, 489, 675, 1776],\n",
    "...    'horse': [4, 25, 281, 600, 1900]\n",
    "...    }, index=[1990, 1997, 2003, 2009, 2014])\n",
    ">>> lines = df.plot.line()\n",
    "'''\n",
    "years = word_count_by_decade.keys()\n",
    "df = pd.DataFrame(index=word_count_by_decade.keys())\n",
    "top_words={}\n",
    "for year,value in word_count_by_decade.items():\n",
    "    value = dict(value)\n",
    "    for word,count in value.items():\n",
    "        if word not in top_words.keys():\n",
    "            top_words[word]=[]\n",
    "        top_words[word].append((year,count))\n",
    "#print(top_words)\n",
    "\n",
    "top_words_plots=[]\n",
    "for word,series_data in top_words.items():\n",
    "    df =pd.DataFrame(series_data, columns=['decade', word])\n",
    "    top_words_plots.append(df)\n",
    "from functools import reduce\n",
    "top_words_plots_df = reduce(lambda x, y: x.join(y.set_index('decade'), on='decade',how='outer'), top_words_plots).set_index('decade')\n",
    "display(top_words_plots_df.head())\n",
    "\n",
    "plt.figure(figsize=(40,40))\n",
    "#adjust font size\n",
    "plt.rcParams.update({'font.size': 8})\n",
    "line= top_words_plots_df.plot.line()\n",
    "plt.legend(bbox_to_anchor=(1.05, 1), loc=2, borderaxespad=0.)\n",
    "plt.show()\n"
   ]
  },
  {
   "cell_type": "markdown",
   "metadata": {},
   "source": [
    "## Analyze variance score of songs by decade"
   ]
  },
  {
   "cell_type": "markdown",
   "metadata": {},
   "source": [
    "We utilize boxplots from matplotlib to boxplots of songs through the decade. pandas boxplot function is biult on [matplotlib boxplot function](https://matplotlib.org/gallery/statistics/boxplot_demo.html)"
   ]
  },
  {
   "cell_type": "code",
   "execution_count": 15,
   "metadata": {},
   "outputs": [
    {
     "data": {
      "image/png": "[encoded data removed]",
      "text/plain": [
       "<Figure size 504x504 with 1 Axes>"
      ]
     },
     "metadata": {
      "needs_background": "light"
     },
     "output_type": "display_data"
    }
   ],
   "source": [
    "variance_boxplot = {}\n",
    "for i in range(6):\n",
    "    variance_scores = data.loc[data['Year'].between(1960+i*10,1969+i*10,inclusive=True)]\n",
    "    decade = 1960 + i*10\n",
    "    title = str(decade)+'s'\n",
    "    variance_boxplot[title] = variance_scores['Variance']\n",
    "    #display(variance_scores.head())\n",
    "    \n",
    "variance_boxplot_df = pd.DataFrame(variance_boxplot)\n",
    "# adjust size of image\n",
    "plt.figure(figsize=(7,7))\n",
    "#adjust font size\n",
    "plt.rcParams.update({'font.size': 15})\n",
    "plt.title('Variance Scores of songs by decades \\n (1965-2015) filtered for stopwords')\n",
    "box_plot = variance_boxplot_df.boxplot()"
   ]
  },
  {
   "cell_type": "code",
   "execution_count": 16,
   "metadata": {},
   "outputs": [
    {
     "data": {
      "image/png": "[encoded data removed]",
      "text/plain": [
       "<Figure size 504x504 with 1 Axes>"
      ]
     },
     "metadata": {
      "needs_background": "light"
     },
     "output_type": "display_data"
    }
   ],
   "source": [
    "variance_root_boxplot = {}\n",
    "for i in range(6):\n",
    "    variance_scores = data.loc[data['Year'].between(1960+i*10,1969+i*10,inclusive=True)]\n",
    "    decade = 1960 + i*10\n",
    "    title = str(decade)+'s'\n",
    "    variance_root_boxplot[title] = variance_scores['Variance Root']\n",
    "    #display(variance_scores.head())\n",
    "    \n",
    "variance_root_boxplot_df = pd.DataFrame(variance_root_boxplot)\n",
    "# adjust size of image\n",
    "plt.figure(figsize=(7,7))\n",
    "#adjust font size\n",
    "plt.rcParams.update({'font.size': 15})\n",
    "plt.title('Variance Scores of songs by decades \\n (1965-2015) filtered for stopwords \\n converted to root words')\n",
    "box_plot = variance_root_boxplot_df.boxplot()"
   ]
  },
  {
   "cell_type": "markdown",
   "metadata": {},
   "source": [
    "## Analysis on Beyonce's songs\n",
    "We see that the top 5 words stay quite constant through the past 50-60 yer"
   ]
  }
 ],
 "metadata": {
  "kernelspec": {
   "display_name": "Python 3",
   "language": "python",
   "name": "python3"
  },
  "language_info": {
   "codemirror_mode": {
    "name": "ipython",
    "version": 3
   },
   "file_extension": ".py",
   "mimetype": "text/x-python",
   "name": "python",
   "nbconvert_exporter": "python",
   "pygments_lexer": "ipython3",
   "version": "3.6.5"
  }
 },
 "nbformat": 4,
 "nbformat_minor": 2
}
